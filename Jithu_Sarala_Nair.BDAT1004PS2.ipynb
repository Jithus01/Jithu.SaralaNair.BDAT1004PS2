{
 "cells": [
  {
   "cell_type": "markdown",
   "id": "127d1d9e",
   "metadata": {},
   "source": [
    "### Question 1"
   ]
  },
  {
   "cell_type": "code",
   "execution_count": 1,
   "id": "3a52e9c2",
   "metadata": {},
   "outputs": [],
   "source": [
    "a = 0\n",
    "def b():\n",
    "    global a\n",
    "    a = c(a)\n",
    "def c(a):\n",
    "    return a + 2"
   ]
  },
  {
   "cell_type": "code",
   "execution_count": 2,
   "id": "33344bba",
   "metadata": {},
   "outputs": [
    {
     "data": {
      "text/plain": [
       "6"
      ]
     },
     "execution_count": 2,
     "metadata": {},
     "output_type": "execute_result"
    }
   ],
   "source": [
    ">>> b()\n",
    ">>> b()\n",
    ">>> b()\n",
    ">>> a"
   ]
  },
  {
   "cell_type": "markdown",
   "id": "867ff16e",
   "metadata": {},
   "source": [
    "### Question 2"
   ]
  },
  {
   "cell_type": "code",
   "execution_count": 28,
   "id": "dc1e5bba",
   "metadata": {},
   "outputs": [],
   "source": [
    "def fileLength(filename):\n",
    "    try:\n",
    "        infile = open(filename)\n",
    "        content = infile.read()\n",
    "        infile.close()\n",
    "        return len(content)\n",
    "    except FileNotFoundError:\n",
    "        print(f\"File {filename} not found.\")"
   ]
  },
  {
   "cell_type": "code",
   "execution_count": 30,
   "id": "e2ffbf20",
   "metadata": {},
   "outputs": [
    {
     "name": "stdout",
     "output_type": "stream",
     "text": [
      "123\n"
     ]
    }
   ],
   "source": [
    "print(fileLength('filelength.txt'))"
   ]
  },
  {
   "cell_type": "code",
   "execution_count": 31,
   "id": "c3d89a09",
   "metadata": {},
   "outputs": [
    {
     "name": "stdout",
     "output_type": "stream",
     "text": [
      "File midterm.py not found.\n",
      "None\n"
     ]
    }
   ],
   "source": [
    "print(fileLength('midterm.py'))"
   ]
  },
  {
   "cell_type": "markdown",
   "id": "388411c9",
   "metadata": {},
   "source": [
    "### Question 3"
   ]
  },
  {
   "cell_type": "code",
   "execution_count": 15,
   "id": "9b20d4a5",
   "metadata": {},
   "outputs": [
    {
     "name": "stdout",
     "output_type": "stream",
     "text": [
      "['doll', 'firetruck', 'kitten']\n"
     ]
    }
   ],
   "source": [
    "class Marsupial:\n",
    "    def __init__(self):\n",
    "        self.pouch = []\n",
    "\n",
    "    def put_in_pouch(self, item):\n",
    "        self.pouch.append(item)\n",
    "\n",
    "    def pouch_contents(self):\n",
    "        return self.pouch\n",
    "    \n",
    "m = Marsupial()\n",
    "m.put_in_pouch('doll')\n",
    "m.put_in_pouch('firetruck')\n",
    "m.put_in_pouch('kitten')\n",
    "print(m.pouch_contents())  "
   ]
  },
  {
   "cell_type": "code",
   "execution_count": 16,
   "id": "8f6db556",
   "metadata": {},
   "outputs": [
    {
     "name": "stdout",
     "output_type": "stream",
     "text": [
      "['doll', 'firetruck', 'kitten']\n",
      "I am a Kangaroo located at coordinates (0,0)\n",
      "['doll', 'firetruck', 'kitten']\n",
      "I am a Kangaroo located at coordinates (3,0)\n"
     ]
    }
   ],
   "source": [
    "class Marsupial:\n",
    "    def __init__(self):\n",
    "        self.pouch = []\n",
    " \n",
    "    def put_in_pouch(self, item):\n",
    "        self.pouch.append(item)\n",
    " \n",
    "    def pouch_contents(self):\n",
    "        return self.pouch\n",
    " \n",
    "class Kangaroo(Marsupial):\n",
    "    def __init__(self, x, y):\n",
    "        super().__init__() \n",
    "        self.x = x\n",
    "        self.y = y\n",
    " \n",
    "    def jump(self, dx, dy):\n",
    "        self.x += dx\n",
    "        self.y += dy\n",
    " \n",
    "    def __str__(self):\n",
    "        return f\"I am a Kangaroo located at coordinates ({self.x},{self.y})\"\n",
    " \n",
    " \n",
    "m = Marsupial()\n",
    "m.put_in_pouch('doll')\n",
    "m.put_in_pouch('firetruck')\n",
    "m.put_in_pouch('kitten')\n",
    "print(m.pouch_contents())  \n",
    " \n",
    "k = Kangaroo(0, 0)\n",
    "print(k)  \n",
    "k.put_in_pouch('doll')\n",
    "k.put_in_pouch('firetruck')\n",
    "k.put_in_pouch('kitten')\n",
    "print(k.pouch_contents())  \n",
    "k.jump(1, 0)\n",
    "k.jump(1, 0)\n",
    "k.jump(1, 0)\n",
    "print(k)    "
   ]
  },
  {
   "cell_type": "markdown",
   "id": "96793ae9",
   "metadata": {},
   "source": [
    "### Question 4"
   ]
  },
  {
   "cell_type": "code",
   "execution_count": 20,
   "id": "eee9af0b",
   "metadata": {},
   "outputs": [],
   "source": [
    "def collatz(x):\n",
    "    print(x) \n",
    "    \n",
    "    if x == 1:\n",
    "        return  \n",
    "    \n",
    "    if x % 2 == 0:\n",
    "        collatz(x // 2)\n",
    "    else:\n",
    "        collatz(3 * x + 1) "
   ]
  },
  {
   "cell_type": "code",
   "execution_count": 21,
   "id": "b1ce99fd",
   "metadata": {},
   "outputs": [
    {
     "name": "stdout",
     "output_type": "stream",
     "text": [
      "1\n"
     ]
    }
   ],
   "source": [
    "collatz(1)"
   ]
  },
  {
   "cell_type": "code",
   "execution_count": 22,
   "id": "ae3d06da",
   "metadata": {},
   "outputs": [
    {
     "name": "stdout",
     "output_type": "stream",
     "text": [
      "10\n",
      "5\n",
      "16\n",
      "8\n",
      "4\n",
      "2\n",
      "1\n"
     ]
    }
   ],
   "source": [
    "collatz(10)\n"
   ]
  },
  {
   "cell_type": "markdown",
   "id": "1aed6fe2",
   "metadata": {},
   "source": [
    "### Question 5"
   ]
  },
  {
   "cell_type": "code",
   "execution_count": 7,
   "id": "9c739baa",
   "metadata": {},
   "outputs": [],
   "source": [
    "def binary(n):\n",
    "    \n",
    "    if n < 0:\n",
    "        raise ValueError\n",
    "    \n",
    "    if n == 0:\n",
    "        print(0, end='') \n",
    "    elif n == 1:\n",
    "        print(1, end='')  \n",
    "    else:\n",
    "        binary_representation(n // 2) \n",
    "        print(n % 2, end='')          "
   ]
  },
  {
   "cell_type": "code",
   "execution_count": 8,
   "id": "407f69bd",
   "metadata": {},
   "outputs": [
    {
     "name": "stdout",
     "output_type": "stream",
     "text": [
      "0\n",
      "1\n",
      "11\n",
      "1001"
     ]
    }
   ],
   "source": [
    "binary(0)\n",
    "print()\n",
    "binary(1)\n",
    "print()\n",
    "binary(3)\n",
    "print()\n",
    "binary(9) "
   ]
  },
  {
   "cell_type": "markdown",
   "id": "fb7d970b",
   "metadata": {},
   "source": [
    "### Question 6"
   ]
  },
  {
   "cell_type": "code",
   "execution_count": 9,
   "id": "7525fc71",
   "metadata": {},
   "outputs": [
    {
     "name": "stdout",
     "output_type": "stream",
     "text": [
      "W3C Mission\n",
      " Principles\n"
     ]
    }
   ],
   "source": [
    "from html.parser import HTMLParser\n",
    " \n",
    "class HeadingParser(HTMLParser):\n",
    "    def __init__(self):\n",
    "        super().__init__()\n",
    "        self.in_heading = False\n",
    "        self.heading_level = 0\n",
    " \n",
    "    def handle_starttag(self, tag, attrs):\n",
    "        if tag in ['h1', 'h2', 'h3', 'h4', 'h5', 'h6']:\n",
    "            self.in_heading = True\n",
    "            self.heading_level = int(tag[1])\n",
    " \n",
    "    def handle_endtag(self, tag):\n",
    "        if tag in ['h1', 'h2', 'h3', 'h4', 'h5', 'h6']:\n",
    "            self.in_heading = False\n",
    " \n",
    "    def handle_data(self, data):\n",
    "        if self.in_heading:\n",
    "            print(' ' * (self.heading_level - 1) + data.strip())\n",
    " \n",
    "infile = open('w3c1.html')\n",
    "content = infile.read()\n",
    "infile.close()\n",
    " \n",
    " \n",
    "hp = HeadingParser()\n",
    "hp.feed(content)"
   ]
  },
  {
   "cell_type": "markdown",
   "id": "c82a8aae",
   "metadata": {},
   "source": [
    "### Question 7"
   ]
  },
  {
   "cell_type": "code",
   "execution_count": 10,
   "id": "4a434749",
   "metadata": {},
   "outputs": [
    {
     "name": "stdout",
     "output_type": "stream",
     "text": [
      "https://ca.indeed.com/\n",
      "  https://www.cloudflare.com/5xx-error-landing\n",
      "    https://dash.cloudflare.com/login\n",
      "    https://community.cloudflare.com/\n",
      "    https://support.cloudflare.com/\n",
      "    https://dash.cloudflare.com/?to=/:account/support\n",
      "    https://developers.cloudflare.com/support/account-management-billing/common-account-questions/login-and-account-issues/\n"
     ]
    }
   ],
   "source": [
    "import requests\n",
    "from bs4 import BeautifulSoup\n",
    "\n",
    "def webdir(url, depth, indent, visited=None, max_links=5):\n",
    "    if visited is None:\n",
    "        visited = set()\n",
    "\n",
    "    if depth < 0 or url in visited:\n",
    "        return\n",
    "    \n",
    "    visited.add(url)\n",
    "    print(' ' * indent + url)\n",
    "    \n",
    "    try:\n",
    "        response = requests.get(url)\n",
    "        soup = BeautifulSoup(response.text, 'html.parser')\n",
    "        links = soup.find_all('a')\n",
    "        count = 0\n",
    "        for link in links:\n",
    "            href = link.get('href')\n",
    "            if href and href.startswith('http') and count < max_links:\n",
    "                count += 1\n",
    "                webdir(href, depth - 1, indent + 2, visited, max_links)\n",
    "    except requests.exceptions.RequestException as e:\n",
    "        print(f\"Error: {e}\")\n",
    "\n",
    "webdir('https://ca.indeed.com/', 2, 0)"
   ]
  },
  {
   "cell_type": "markdown",
   "id": "9dc8096a",
   "metadata": {},
   "source": [
    "### Question 8"
   ]
  },
  {
   "cell_type": "code",
   "execution_count": 11,
   "id": "623a4b92",
   "metadata": {},
   "outputs": [
    {
     "data": {
      "text/plain": [
       "<sqlite3.Cursor at 0x1e39da873c0>"
      ]
     },
     "execution_count": 11,
     "metadata": {},
     "output_type": "execute_result"
    }
   ],
   "source": [
    "import sqlite3\n",
    "\n",
    "conn = sqlite3.connect('weather.db')\n",
    "cursor = conn.cursor()\n",
    "\n",
    "cursor.execute('''\n",
    "    CREATE TABLE IF NOT EXISTS Weather (\n",
    "        City TEXT,\n",
    "        Country TEXT,\n",
    "        Season TEXT,\n",
    "        Temperature REAL,\n",
    "        Rainfall REAL\n",
    "    )\n",
    "''')\n",
    "\n",
    "cursor.executemany('''\n",
    "    INSERT INTO Weather (City, Country, Season, Temperature, Rainfall) VALUES (?, ?, ?, ?, ?)\n",
    "''', [\n",
    "    ('Mumbai', 'India', 'Winter', 24.8, 5.9),\n",
    "    ('Mumbai', 'India', 'Spring', 28.4, 16.2),\n",
    "    ('Mumbai', 'India', 'Summer', 27.9, 1549.4),\n",
    "    ('Mumbai', 'India', 'Fall', 27.6, 346.0),\n",
    "    ('London', 'United Kingdom', 'Winter', 4.2, 207.7),\n",
    "    ('London', 'United Kingdom', 'Spring', 8.3, 169.6),\n",
    "    ('London', 'United Kingdom', 'Summer', 15.7, 157.0),\n",
    "    ('London', 'United Kingdom', 'Fall', 10.4, 218.5),\n",
    "    ('Cairo', 'Egypt', 'Winter', 13.6, 16.5),\n",
    "    ('Cairo', 'Egypt', 'Spring', 20.7, 6.5),\n",
    "    ('Cairo', 'Egypt', 'Summer', 27.7, 0.1),\n",
    "    ('Cairo', 'Egypt', 'Fall', 22.2, 4.5)\n",
    "])"
   ]
  },
  {
   "cell_type": "code",
   "execution_count": 12,
   "id": "da5d95bb",
   "metadata": {},
   "outputs": [],
   "source": [
    "conn.commit()\n",
    "\n",
    "def run_query(query):\n",
    "    cursor.execute(query)\n",
    "    for row in cursor.fetchall():\n",
    "        print(row)"
   ]
  },
  {
   "cell_type": "code",
   "execution_count": 14,
   "id": "a9d89caa",
   "metadata": {},
   "outputs": [
    {
     "name": "stdout",
     "output_type": "stream",
     "text": [
      "Temperature data:\n",
      "(24.8,)\n",
      "(28.4,)\n",
      "(27.9,)\n",
      "(27.6,)\n",
      "(4.2,)\n",
      "(8.3,)\n",
      "(15.7,)\n",
      "(10.4,)\n",
      "(13.6,)\n",
      "(20.7,)\n",
      "(27.7,)\n",
      "(22.2,)\n",
      "(24.8,)\n",
      "(28.4,)\n",
      "(27.9,)\n",
      "(27.6,)\n",
      "(4.2,)\n",
      "(8.3,)\n",
      "(15.7,)\n",
      "(10.4,)\n",
      "(13.6,)\n",
      "(20.7,)\n",
      "(27.7,)\n",
      "(22.2,)\n",
      "(24.8,)\n",
      "(28.4,)\n",
      "(27.9,)\n",
      "(27.6,)\n",
      "(4.2,)\n",
      "(8.3,)\n",
      "(15.7,)\n",
      "(10.4,)\n",
      "(13.6,)\n",
      "(20.7,)\n",
      "(27.7,)\n",
      "(22.2,)\n"
     ]
    }
   ],
   "source": [
    "print(\"Temperature data:\")\n",
    "run_query(\"SELECT Temperature FROM Weather\")"
   ]
  },
  {
   "cell_type": "code",
   "execution_count": 15,
   "id": "e50dd528",
   "metadata": {},
   "outputs": [
    {
     "name": "stdout",
     "output_type": "stream",
     "text": [
      "All the cities, without repetition:\n",
      "('Mumbai',)\n",
      "('London',)\n",
      "('Cairo',)\n"
     ]
    }
   ],
   "source": [
    "print(\"All the cities, without repetition:\")\n",
    "run_query(\"SELECT DISTINCT City FROM Weather\")"
   ]
  },
  {
   "cell_type": "code",
   "execution_count": 16,
   "id": "9778159e",
   "metadata": {},
   "outputs": [
    {
     "name": "stdout",
     "output_type": "stream",
     "text": [
      "Weather records for India:\n",
      "('Mumbai', 'India', 'Winter', 24.8, 5.9)\n",
      "('Mumbai', 'India', 'Spring', 28.4, 16.2)\n",
      "('Mumbai', 'India', 'Summer', 27.9, 1549.4)\n",
      "('Mumbai', 'India', 'Fall', 27.6, 346.0)\n",
      "('Mumbai', 'India', 'Winter', 24.8, 5.9)\n",
      "('Mumbai', 'India', 'Spring', 28.4, 16.2)\n",
      "('Mumbai', 'India', 'Summer', 27.9, 1549.4)\n",
      "('Mumbai', 'India', 'Fall', 27.6, 346.0)\n",
      "('Mumbai', 'India', 'Winter', 24.8, 5.9)\n",
      "('Mumbai', 'India', 'Spring', 28.4, 16.2)\n",
      "('Mumbai', 'India', 'Summer', 27.9, 1549.4)\n",
      "('Mumbai', 'India', 'Fall', 27.6, 346.0)\n"
     ]
    }
   ],
   "source": [
    "print(\"Weather records for India:\")\n",
    "run_query(\"SELECT * FROM Weather WHERE Country = 'India'\")"
   ]
  },
  {
   "cell_type": "code",
   "execution_count": 17,
   "id": "a7ad1503",
   "metadata": {},
   "outputs": [
    {
     "name": "stdout",
     "output_type": "stream",
     "text": [
      "Fall records:\n",
      "('Mumbai', 'India', 'Fall', 27.6, 346.0)\n",
      "('London', 'United Kingdom', 'Fall', 10.4, 218.5)\n",
      "('Cairo', 'Egypt', 'Fall', 22.2, 4.5)\n",
      "('Mumbai', 'India', 'Fall', 27.6, 346.0)\n",
      "('London', 'United Kingdom', 'Fall', 10.4, 218.5)\n",
      "('Cairo', 'Egypt', 'Fall', 22.2, 4.5)\n",
      "('Mumbai', 'India', 'Fall', 27.6, 346.0)\n",
      "('London', 'United Kingdom', 'Fall', 10.4, 218.5)\n",
      "('Cairo', 'Egypt', 'Fall', 22.2, 4.5)\n"
     ]
    }
   ],
   "source": [
    "print(\"Fall records:\")\n",
    "run_query(\"SELECT * FROM Weather WHERE Season = 'Fall'\")"
   ]
  },
  {
   "cell_type": "code",
   "execution_count": 18,
   "id": "6c831bd2",
   "metadata": {},
   "outputs": [
    {
     "name": "stdout",
     "output_type": "stream",
     "text": [
      "The city, country, and season for which the average rainfall is between 200 and 400 millimeters:\n",
      "('London', 'United Kingdom', 'Fall')\n",
      "('London', 'United Kingdom', 'Winter')\n",
      "('Mumbai', 'India', 'Fall')\n"
     ]
    }
   ],
   "source": [
    "print(\"The city, country, and season for which the average rainfall is between 200 and 400 millimeters:\")\n",
    "run_query(\"\"\"\n",
    "    SELECT City, Country, Season \n",
    "    FROM Weather \n",
    "    GROUP BY City, Country, Season \n",
    "    HAVING AVG(Rainfall) BETWEEN 200 AND 400\n",
    "\"\"\")"
   ]
  },
  {
   "cell_type": "code",
   "execution_count": 19,
   "id": "fedba5a0",
   "metadata": {},
   "outputs": [
    {
     "name": "stdout",
     "output_type": "stream",
     "text": [
      "The city and country for which the average Fall temperature is above 20 degrees, in increasing temperature order:\n",
      "('Cairo', 'Egypt')\n",
      "('Mumbai', 'India')\n"
     ]
    }
   ],
   "source": [
    "print(\"The city and country for which the average Fall temperature is above 20 degrees, in increasing temperature order:\")\n",
    "run_query(\"\"\"\n",
    "    SELECT City, Country \n",
    "    FROM Weather \n",
    "    WHERE Season = 'Fall' \n",
    "    GROUP BY City, Country \n",
    "    HAVING AVG(Temperature) > 20 \n",
    "    ORDER BY AVG(Temperature)\n",
    "\"\"\")"
   ]
  },
  {
   "cell_type": "code",
   "execution_count": 20,
   "id": "57a5af68",
   "metadata": {},
   "outputs": [
    {
     "name": "stdout",
     "output_type": "stream",
     "text": [
      "Total annual rainfall for Cairo:\n",
      "(82.8,)\n"
     ]
    }
   ],
   "source": [
    "print(\"Total annual rainfall for Cairo:\")\n",
    "run_query(\"SELECT SUM(Rainfall) AS TotalAnnualRainfall FROM Weather WHERE City = 'Cairo'\")"
   ]
  },
  {
   "cell_type": "code",
   "execution_count": 21,
   "id": "a6388f06",
   "metadata": {},
   "outputs": [
    {
     "name": "stdout",
     "output_type": "stream",
     "text": [
      "Total rainfall for each season:\n",
      "('Fall', 1707.0)\n",
      "('Spring', 576.9)\n",
      "('Summer', 5119.5)\n",
      "('Winter', 690.3)\n"
     ]
    }
   ],
   "source": [
    "print(\"Total rainfall for each season:\")\n",
    "run_query(\"SELECT Season, SUM(Rainfall) AS TotalRainfall FROM Weather GROUP BY Season\")\n",
    "conn.close()"
   ]
  },
  {
   "cell_type": "markdown",
   "id": "8fe3502b",
   "metadata": {},
   "source": [
    "### Question 9"
   ]
  },
  {
   "cell_type": "code",
   "execution_count": 22,
   "id": "47ed35b2",
   "metadata": {},
   "outputs": [
    {
     "name": "stdout",
     "output_type": "stream",
     "text": [
      "['THE', 'QUICK', 'BROWN', 'FOX', 'JUMPS', 'OVER', 'THE', 'LAZY', 'DOG']\n"
     ]
    }
   ],
   "source": [
    "words = ['The', 'quick', 'brown', 'fox', 'jumps', 'over', 'the', 'lazy', 'dog']\n",
    "uppercase_words = [word.upper() for word in words]\n",
    "print(uppercase_words)"
   ]
  },
  {
   "cell_type": "code",
   "execution_count": 23,
   "id": "e4202896",
   "metadata": {},
   "outputs": [
    {
     "name": "stdout",
     "output_type": "stream",
     "text": [
      "['the', 'quick', 'brown', 'fox', 'jumps', 'over', 'the', 'lazy', 'dog']\n"
     ]
    }
   ],
   "source": [
    "lowercase_words = [word.lower() for word in words]\n",
    "print(lowercase_words)"
   ]
  },
  {
   "cell_type": "code",
   "execution_count": 24,
   "id": "4ee56992",
   "metadata": {},
   "outputs": [
    {
     "name": "stdout",
     "output_type": "stream",
     "text": [
      "[3, 5, 5, 3, 5, 4, 3, 4, 3]\n"
     ]
    }
   ],
   "source": [
    "word_lengths = [len(word) for word in words]\n",
    "print(word_lengths)"
   ]
  },
  {
   "cell_type": "code",
   "execution_count": 25,
   "id": "94fb4013",
   "metadata": {},
   "outputs": [
    {
     "name": "stdout",
     "output_type": "stream",
     "text": [
      "[['THE', 'the', 3], ['QUICK', 'quick', 5], ['BROWN', 'brown', 5], ['FOX', 'fox', 3], ['JUMPS', 'jumps', 5], ['OVER', 'over', 4], ['THE', 'the', 3], ['LAZY', 'lazy', 4], ['DOG', 'dog', 3]]\n"
     ]
    }
   ],
   "source": [
    "word_details = [[word.upper(), word.lower(), len(word)] for word in words]\n",
    "print(word_details)"
   ]
  },
  {
   "cell_type": "code",
   "execution_count": 26,
   "id": "736ae4a8",
   "metadata": {},
   "outputs": [
    {
     "name": "stdout",
     "output_type": "stream",
     "text": [
      "['quick', 'brown', 'jumps', 'over', 'lazy']\n"
     ]
    }
   ],
   "source": [
    "words_with_4_or_more_chars = [word for word in words if len(word) >= 4]\n",
    "print(words_with_4_or_more_chars)"
   ]
  },
  {
   "cell_type": "code",
   "execution_count": null,
   "id": "580079ef",
   "metadata": {},
   "outputs": [],
   "source": []
  }
 ],
 "metadata": {
  "kernelspec": {
   "display_name": "Python 3 (ipykernel)",
   "language": "python",
   "name": "python3"
  },
  "language_info": {
   "codemirror_mode": {
    "name": "ipython",
    "version": 3
   },
   "file_extension": ".py",
   "mimetype": "text/x-python",
   "name": "python",
   "nbconvert_exporter": "python",
   "pygments_lexer": "ipython3",
   "version": "3.10.9"
  }
 },
 "nbformat": 4,
 "nbformat_minor": 5
}
